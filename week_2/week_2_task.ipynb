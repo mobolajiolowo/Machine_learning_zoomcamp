{
 "cells": [
  {
   "cell_type": "markdown",
   "id": "6fb2bebd-5122-4fbe-a417-8f7d18e3a5f6",
   "metadata": {},
   "source": [
    "## Getting the data"
   ]
  },
  {
   "cell_type": "markdown",
   "id": "fa157b13-0669-4c8a-aded-95c136fb828c",
   "metadata": {},
   "source": [
    "!wget https://raw.githubusercontent.com/alexeygrigorev/datasets/master/housing.csv\n"
   ]
  },
  {
   "cell_type": "code",
   "execution_count": 1,
   "id": "c6d9ed11-5b9c-4d80-8fb8-0f51564afa75",
   "metadata": {},
   "outputs": [],
   "source": [
    "import pandas as pd\n",
    "import numpy as np"
   ]
  },
  {
   "cell_type": "markdown",
   "id": "739187b3-c689-46b2-9a6c-45ef5aac8127",
   "metadata": {},
   "source": [
    "## EDA"
   ]
  },
  {
   "cell_type": "code",
   "execution_count": 2,
   "id": "59d1aa74-82d9-45c9-94c2-01a05852fd16",
   "metadata": {},
   "outputs": [],
   "source": [
    "df = pd.read_csv(\"housing.csv\")"
   ]
  },
  {
   "cell_type": "code",
   "execution_count": 3,
   "id": "2b89e0a5-239a-4e55-88f1-8aa8efd96d65",
   "metadata": {},
   "outputs": [
    {
     "data": {
      "text/html": [
       "<div>\n",
       "<style scoped>\n",
       "    .dataframe tbody tr th:only-of-type {\n",
       "        vertical-align: middle;\n",
       "    }\n",
       "\n",
       "    .dataframe tbody tr th {\n",
       "        vertical-align: top;\n",
       "    }\n",
       "\n",
       "    .dataframe thead th {\n",
       "        text-align: right;\n",
       "    }\n",
       "</style>\n",
       "<table border=\"1\" class=\"dataframe\">\n",
       "  <thead>\n",
       "    <tr style=\"text-align: right;\">\n",
       "      <th></th>\n",
       "      <th>longitude</th>\n",
       "      <th>latitude</th>\n",
       "      <th>housing_median_age</th>\n",
       "      <th>total_rooms</th>\n",
       "      <th>total_bedrooms</th>\n",
       "      <th>population</th>\n",
       "      <th>households</th>\n",
       "      <th>median_income</th>\n",
       "      <th>median_house_value</th>\n",
       "      <th>ocean_proximity</th>\n",
       "    </tr>\n",
       "  </thead>\n",
       "  <tbody>\n",
       "    <tr>\n",
       "      <th>0</th>\n",
       "      <td>-122.23</td>\n",
       "      <td>37.88</td>\n",
       "      <td>41.0</td>\n",
       "      <td>880.0</td>\n",
       "      <td>129.0</td>\n",
       "      <td>322.0</td>\n",
       "      <td>126.0</td>\n",
       "      <td>8.3252</td>\n",
       "      <td>452600.0</td>\n",
       "      <td>NEAR BAY</td>\n",
       "    </tr>\n",
       "    <tr>\n",
       "      <th>1</th>\n",
       "      <td>-122.22</td>\n",
       "      <td>37.86</td>\n",
       "      <td>21.0</td>\n",
       "      <td>7099.0</td>\n",
       "      <td>1106.0</td>\n",
       "      <td>2401.0</td>\n",
       "      <td>1138.0</td>\n",
       "      <td>8.3014</td>\n",
       "      <td>358500.0</td>\n",
       "      <td>NEAR BAY</td>\n",
       "    </tr>\n",
       "    <tr>\n",
       "      <th>2</th>\n",
       "      <td>-122.24</td>\n",
       "      <td>37.85</td>\n",
       "      <td>52.0</td>\n",
       "      <td>1467.0</td>\n",
       "      <td>190.0</td>\n",
       "      <td>496.0</td>\n",
       "      <td>177.0</td>\n",
       "      <td>7.2574</td>\n",
       "      <td>352100.0</td>\n",
       "      <td>NEAR BAY</td>\n",
       "    </tr>\n",
       "    <tr>\n",
       "      <th>3</th>\n",
       "      <td>-122.25</td>\n",
       "      <td>37.85</td>\n",
       "      <td>52.0</td>\n",
       "      <td>1274.0</td>\n",
       "      <td>235.0</td>\n",
       "      <td>558.0</td>\n",
       "      <td>219.0</td>\n",
       "      <td>5.6431</td>\n",
       "      <td>341300.0</td>\n",
       "      <td>NEAR BAY</td>\n",
       "    </tr>\n",
       "    <tr>\n",
       "      <th>4</th>\n",
       "      <td>-122.25</td>\n",
       "      <td>37.85</td>\n",
       "      <td>52.0</td>\n",
       "      <td>1627.0</td>\n",
       "      <td>280.0</td>\n",
       "      <td>565.0</td>\n",
       "      <td>259.0</td>\n",
       "      <td>3.8462</td>\n",
       "      <td>342200.0</td>\n",
       "      <td>NEAR BAY</td>\n",
       "    </tr>\n",
       "  </tbody>\n",
       "</table>\n",
       "</div>"
      ],
      "text/plain": [
       "   longitude  latitude  housing_median_age  total_rooms  total_bedrooms  \\\n",
       "0    -122.23     37.88                41.0        880.0           129.0   \n",
       "1    -122.22     37.86                21.0       7099.0          1106.0   \n",
       "2    -122.24     37.85                52.0       1467.0           190.0   \n",
       "3    -122.25     37.85                52.0       1274.0           235.0   \n",
       "4    -122.25     37.85                52.0       1627.0           280.0   \n",
       "\n",
       "   population  households  median_income  median_house_value ocean_proximity  \n",
       "0       322.0       126.0         8.3252            452600.0        NEAR BAY  \n",
       "1      2401.0      1138.0         8.3014            358500.0        NEAR BAY  \n",
       "2       496.0       177.0         7.2574            352100.0        NEAR BAY  \n",
       "3       558.0       219.0         5.6431            341300.0        NEAR BAY  \n",
       "4       565.0       259.0         3.8462            342200.0        NEAR BAY  "
      ]
     },
     "execution_count": 3,
     "metadata": {},
     "output_type": "execute_result"
    }
   ],
   "source": [
    "df.head()"
   ]
  },
  {
   "cell_type": "code",
   "execution_count": 4,
   "id": "94d14957-1dcc-41d1-a85c-6189a895ab2b",
   "metadata": {},
   "outputs": [
    {
     "data": {
      "text/plain": [
       "<AxesSubplot:>"
      ]
     },
     "execution_count": 4,
     "metadata": {},
     "output_type": "execute_result"
    },
    {
     "data": {
      "image/png": "[encoded data removed]",
      "text/plain": [
       "<Figure size 432x288 with 1 Axes>"
      ]
     },
     "metadata": {
      "needs_background": "light"
     },
     "output_type": "display_data"
    }
   ],
   "source": [
    "df.boxplot(column='median_house_value')"
   ]
  },
  {
   "cell_type": "code",
   "execution_count": 5,
   "id": "d1bb3214-7fe1-4d7e-ac66-ed94a08929c6",
   "metadata": {},
   "outputs": [
    {
     "data": {
      "text/plain": [
       "array([[<AxesSubplot:title={'center':'median_house_value'}>]],\n",
       "      dtype=object)"
      ]
     },
     "execution_count": 5,
     "metadata": {},
     "output_type": "execute_result"
    },
    {
     "data": {
      "image/png": "[encoded data removed]",
      "text/plain": [
       "<Figure size 640x480 with 1 Axes>"
      ]
     },
     "metadata": {},
     "output_type": "display_data"
    }
   ],
   "source": [
    "df.hist(column='median_house_value')"
   ]
  },
  {
   "cell_type": "code",
   "execution_count": 6,
   "id": "de37e983-8618-42c4-b2d4-86f84d961767",
   "metadata": {},
   "outputs": [],
   "source": [
    "features = ['latitude',\n",
    "'longitude',\n",
    "'housing_median_age',\n",
    "'total_rooms',\n",
    "'total_bedrooms',\n",
    "'population',\n",
    "'households',\n",
    "'median_income']\n",
    "target = 'median_house_value'"
   ]
  },
  {
   "cell_type": "markdown",
   "id": "d39faa3c-ba3c-468d-ba42-5b07f21836b9",
   "metadata": {},
   "source": [
    "## 1. Finding features with missing data"
   ]
  },
  {
   "cell_type": "code",
   "execution_count": 7,
   "id": "3ba54e43-c23b-46f5-9ee8-51a69380535f",
   "metadata": {},
   "outputs": [
    {
     "data": {
      "text/plain": [
       "latitude                0\n",
       "longitude               0\n",
       "housing_median_age      0\n",
       "total_rooms             0\n",
       "total_bedrooms        207\n",
       "population              0\n",
       "households              0\n",
       "median_income           0\n",
       "dtype: int64"
      ]
     },
     "execution_count": 7,
     "metadata": {},
     "output_type": "execute_result"
    }
   ],
   "source": [
    "df[features].isnull().sum()"
   ]
  },
  {
   "cell_type": "markdown",
   "id": "47589e27-2607-4dea-889f-2d2f18986e9a",
   "metadata": {},
   "source": [
    "## 2. Median"
   ]
  },
  {
   "cell_type": "code",
   "execution_count": 8,
   "id": "0a3f822a-9d7f-442d-bdc8-cdd8bdd74a21",
   "metadata": {},
   "outputs": [
    {
     "data": {
      "text/plain": [
       "1166.0"
      ]
     },
     "execution_count": 8,
     "metadata": {},
     "output_type": "execute_result"
    }
   ],
   "source": [
    "df[\"population\"].median()"
   ]
  },
  {
   "cell_type": "markdown",
   "id": "1b2f71ca-ca63-401c-8287-893689db89d0",
   "metadata": {},
   "source": [
    "## Splitting the data"
   ]
  },
  {
   "cell_type": "code",
   "execution_count": 9,
   "id": "0fd1c259-9348-4e4d-a6fb-499b840173cd",
   "metadata": {},
   "outputs": [
    {
     "name": "stdout",
     "output_type": "stream",
     "text": [
      "X_train:  (12384, 8)\n",
      "X_test:  (4128, 8)\n",
      "X_val:  (4128, 8)\n",
      "y_train:  (12384,)\n",
      "y_test:  (4128,)\n",
      "y_val:  (4128,)\n"
     ]
    }
   ],
   "source": [
    "n = len(df)\n",
    "n_val = int(n*0.2)\n",
    "n_test = int(n*0.2)\n",
    "n_train = n-n_val-n_test\n",
    "idx = np.arange(n)\n",
    "np.random.seed(42)\n",
    "np.random.shuffle(idx)\n",
    "\n",
    "df_train =df[features].iloc[idx[:n_train]]\n",
    "df_val =df[features].iloc[idx[n_train:n_train+n_val]]\n",
    "df_test =df[features].iloc[idx[n_train+n_val:]]\n",
    "\n",
    "df_train = df_train.reset_index(drop=True)\n",
    "df_val = df_val.reset_index(drop=True)\n",
    "df_test = df_test.reset_index(drop=True)\n",
    "\n",
    "y_train = np.log1p(df[target].iloc[idx[:n_train]].values)\n",
    "y_val = np.log1p(df[target].iloc[idx[n_train:n_train+n_val]].values)\n",
    "y_test = np.log1p(df[target].iloc[idx[n_train+n_val:]].values)\n",
    "\n",
    "\n",
    "#from sklearn.model_selection import train_test_split\n",
    "#X = df[features]\n",
    "#y = df[target]\n",
    "#X_train,X_val,y_train,y_val = train_test_split(X,y, train_size=0.6,test_size=0.4,random_state=42)\n",
    "#X_val,X_test,y_val,y_test = train_test_split(X_val,y_val,test_size=0.5,random_state=42)\n",
    "print(\"X_train: \", df_train.shape)\n",
    "print(\"X_test: \", df_test.shape)\n",
    "print(\"X_val: \", df_val.shape)\n",
    "print(\"y_train: \", y_train.shape)\n",
    "print(\"y_test: \", y_test.shape)\n",
    "print(\"y_val: \", y_val.shape)"
   ]
  },
  {
   "cell_type": "code",
   "execution_count": 10,
   "id": "99ad42a0-ee96-47d3-aaeb-67ce6ba560e4",
   "metadata": {},
   "outputs": [
    {
     "data": {
      "text/plain": [
       "latitude                0\n",
       "longitude               0\n",
       "housing_median_age      0\n",
       "total_rooms             0\n",
       "total_bedrooms        207\n",
       "population              0\n",
       "households              0\n",
       "median_income           0\n",
       "dtype: int64"
      ]
     },
     "execution_count": 10,
     "metadata": {},
     "output_type": "execute_result"
    }
   ],
   "source": [
    "df_train.isnull().sum()"
   ]
  },
  {
   "cell_type": "markdown",
   "id": "7f85f45d-eabb-4ade-8a64-677426a2fab2",
   "metadata": {},
   "source": [
    "## Filling missing data with mean and training"
   ]
  },
  {
   "cell_type": "code",
   "execution_count": 11,
   "id": "7f6f479c-f54e-4ebd-9786-bf3d8978df2b",
   "metadata": {},
   "outputs": [],
   "source": [
    "df_train.fillna(df_train.mean(),inplace=True)"
   ]
  },
  {
   "cell_type": "code",
   "execution_count": 12,
   "id": "0c0cc688-e1c3-4264-8d45-fdfb849709c4",
   "metadata": {},
   "outputs": [
    {
     "data": {
      "text/plain": [
       "latitude              0\n",
       "longitude             0\n",
       "housing_median_age    0\n",
       "total_rooms           0\n",
       "total_bedrooms        0\n",
       "population            0\n",
       "households            0\n",
       "median_income         0\n",
       "dtype: int64"
      ]
     },
     "execution_count": 12,
     "metadata": {},
     "output_type": "execute_result"
    }
   ],
   "source": [
    "df_train.isnull().sum()"
   ]
  },
  {
   "cell_type": "code",
   "execution_count": 13,
   "id": "b499b9c7-b293-4ec8-91de-fcd7bc73ab13",
   "metadata": {},
   "outputs": [],
   "source": [
    "#def dot(xi,w):\n",
    "    #n = len(xi)\n",
    "    #res = 0.0\n",
    "    #for j in range(n):\n",
    "    #   res = pred + xi[j] * w[j]\n",
    "    #return res\n",
    "\n",
    "def train_linear_regression(X,y):\n",
    "    ones = np.ones(X.shape[0])\n",
    "    X = np.column_stack([ones,X])\n",
    "    XTX = X.T.dot(X)\n",
    "    XTX_inv = np.linalg.inv(XTX)\n",
    "    w_full = XTX_inv.dot(X.T).dot(y)\n",
    "    return w_full[0], w_full[1:]\n"
   ]
  },
  {
   "cell_type": "code",
   "execution_count": 28,
   "id": "cce87f47-d657-4100-aeb8-e6a9d9c659a7",
   "metadata": {},
   "outputs": [],
   "source": [
    "X_train = df_train.values\n",
    "w0, w = train_linear_regression(X_train,y_train)\n",
    "y_pred = w0 + X_val.dot(w)"
   ]
  },
  {
   "cell_type": "code",
   "execution_count": 29,
   "id": "9e3f8905-b67b-4226-b07e-b6c36b612701",
   "metadata": {},
   "outputs": [],
   "source": [
    "def rmse(y,y_pred):\n",
    "    error = y-y_pred\n",
    "    se = error**2\n",
    "    mse = se.mean()\n",
    "    return np.sqrt(mse)"
   ]
  },
  {
   "cell_type": "code",
   "execution_count": 30,
   "id": "365c99b3-1c15-4334-9cea-8d2a7c3c568d",
   "metadata": {},
   "outputs": [
    {
     "data": {
      "text/plain": [
       "0.33"
      ]
     },
     "execution_count": 30,
     "metadata": {},
     "output_type": "execute_result"
    }
   ],
   "source": [
    "round(rmse(y_val,y_pred),2)"
   ]
  },
  {
   "cell_type": "markdown",
   "id": "586afdd1-1f55-4aff-a1bd-286137bcb04e",
   "metadata": {},
   "source": [
    "## Filling missing data with 0 and training"
   ]
  },
  {
   "cell_type": "code",
   "execution_count": 18,
   "id": "652ee124-4121-478f-8613-e471db34803f",
   "metadata": {},
   "outputs": [],
   "source": [
    "n = len(df)\n",
    "n_val = int(n*0.2)\n",
    "n_test = int(n*0.2)\n",
    "n_train = n-n_val-n_test\n",
    "idx = np.arange(n)\n",
    "np.random.seed(42)\n",
    "np.random.shuffle(idx)\n",
    "\n",
    "df_train =df[features].iloc[idx[:n_train]]\n",
    "df_val =df[features].iloc[idx[n_train:n_train+n_val]]\n",
    "df_test =df[features].iloc[idx[n_train+n_val:]]\n",
    "\n",
    "df_train = df_train.reset_index(drop=True)\n",
    "df_val = df_val.reset_index(drop=True)\n",
    "df_test = df_test.reset_index(drop=True)\n",
    "\n",
    "y_train = np.log1p(df[target].iloc[idx[:n_train]].values)\n",
    "y_val = np.log1p(df[target].iloc[idx[n_train:n_train+n_val]].values)\n",
    "y_test = np.log1p(df[target].iloc[idx[n_train+n_val:]].values)"
   ]
  },
  {
   "cell_type": "code",
   "execution_count": 19,
   "id": "913f2ec2-80c6-421c-aebf-30a224146795",
   "metadata": {},
   "outputs": [
    {
     "data": {
      "text/plain": [
       "latitude                0\n",
       "longitude               0\n",
       "housing_median_age      0\n",
       "total_rooms             0\n",
       "total_bedrooms        207\n",
       "population              0\n",
       "households              0\n",
       "median_income           0\n",
       "dtype: int64"
      ]
     },
     "execution_count": 19,
     "metadata": {},
     "output_type": "execute_result"
    }
   ],
   "source": [
    "df_train.isnull().sum()"
   ]
  },
  {
   "cell_type": "code",
   "execution_count": 20,
   "id": "624a5e77-c83b-42b6-a622-760c98b3e953",
   "metadata": {},
   "outputs": [],
   "source": [
    "df_train.fillna(0,inplace=True)"
   ]
  },
  {
   "cell_type": "code",
   "execution_count": 21,
   "id": "6c9f177f-c06a-46f5-8032-e0a6df9b7113",
   "metadata": {},
   "outputs": [
    {
     "data": {
      "text/plain": [
       "latitude              0\n",
       "longitude             0\n",
       "housing_median_age    0\n",
       "total_rooms           0\n",
       "total_bedrooms        0\n",
       "population            0\n",
       "households            0\n",
       "median_income         0\n",
       "dtype: int64"
      ]
     },
     "execution_count": 21,
     "metadata": {},
     "output_type": "execute_result"
    }
   ],
   "source": [
    "df_train.isnull().sum()"
   ]
  },
  {
   "cell_type": "code",
   "execution_count": 27,
   "id": "f721d2d7-ce4a-40ed-807d-9de4b3ca1c91",
   "metadata": {},
   "outputs": [
    {
     "data": {
      "text/plain": [
       "0.33"
      ]
     },
     "execution_count": 27,
     "metadata": {},
     "output_type": "execute_result"
    }
   ],
   "source": [
    "def train_linear_regression(X,y):\n",
    "    ones = np.ones(X.shape[0])\n",
    "    X = np.column_stack([ones,X])\n",
    "    XTX = X.T.dot(X)\n",
    "    XTX_inv = np.linalg.inv(XTX)\n",
    "    w_full = XTX_inv.dot(X.T).dot(y)\n",
    "    return w_full[0], w_full[1:]\n",
    "\n",
    "X_train = df_train.values\n",
    "X_val = df_val.values\n",
    "w0, w = train_linear_regression(X_train,y_train)\n",
    "y_pred = w0 + df_val.dot(w)\n",
    "\n",
    "def rmse(y,y_pred):\n",
    "    error = y-y_pred\n",
    "    se = error**2\n",
    "    mse = se.mean()\n",
    "    return np.sqrt(mse)\n",
    "\n",
    "round(rmse(y_val,y_pred),2)"
   ]
  },
  {
   "cell_type": "markdown",
   "id": "ab10f7fb-d596-4064-a7a1-b25151612dce",
   "metadata": {},
   "source": [
    "## Training regularized Linear regession"
   ]
  },
  {
   "cell_type": "code",
   "execution_count": 34,
   "id": "3733b5c3-ec6f-4566-a1a4-cca4a9c3d209",
   "metadata": {},
   "outputs": [
    {
     "name": "stdout",
     "output_type": "stream",
     "text": [
      "0  --  0.33\n",
      "1e-06  --  0.33\n",
      "0.0001  --  0.33\n",
      "0.001  --  0.33\n",
      "0.01  --  0.33\n",
      "0.1  --  0.33\n",
      "1  --  0.33\n",
      "5  --  0.34\n",
      "10  --  0.34\n"
     ]
    }
   ],
   "source": [
    "def train_linear_regression_reg(X,y,r):\n",
    "    ones = np.ones(X.shape[0])\n",
    "    X = np.column_stack([ones,X])\n",
    "    XTX = X.T.dot(X)\n",
    "    XTX = XTX + r * np.eye(XTX.shape[0])\n",
    "    XTX_inv = np.linalg.inv(XTX)\n",
    "    w_full = XTX_inv.dot(X.T).dot(y)\n",
    "    return w_full[0], w_full[1:]\n",
    "\n",
    "X_train = df_train.values\n",
    "X_val = df_val.values\n",
    "\n",
    "r_list = [0, 0.000001, 0.0001, 0.001, 0.01, 0.1, 1, 5, 10]\n",
    "for r in r_list:\n",
    "    w0, w = train_linear_regression_reg(X_train,y_train,r)\n",
    "    y_pred = w0 + X_val.dot(w)\n",
    "    accuracy = round(rmse(y_val,y_pred),2)\n",
    "    print(\"{}  --  {}\".format(r,accuracy))"
   ]
  },
  {
   "cell_type": "markdown",
   "id": "7a8d203b-88fb-4a3d-a25e-9e08257a6281",
   "metadata": {},
   "source": [
    "## Using different random seeds for splitting data"
   ]
  },
  {
   "cell_type": "code",
   "execution_count": 53,
   "id": "60328d19-4e5b-4af5-9739-ff4b643f54ba",
   "metadata": {},
   "outputs": [],
   "source": [
    "df = pd.read_csv(\"housing.csv\")\n",
    "features = ['latitude',\n",
    "'longitude',\n",
    "'housing_median_age',\n",
    "'total_rooms',\n",
    "'total_bedrooms',\n",
    "'population',\n",
    "'households',\n",
    "'median_income']\n",
    "\n",
    "target = 'median_house_value'\n",
    "\n",
    "n = len(df)\n",
    "n_val = int(n*0.2)\n",
    "n_test = int(n*0.2)\n",
    "n_train = n-n_val-n_test\n",
    "idx = np.arange(n)\n",
    "seed_list = [0, 1, 2, 3, 4, 5, 6, 7, 8, 9]\n",
    "score = {}\n",
    "for n in seed_list:\n",
    "    np.random.seed(n)\n",
    "    np.random.shuffle(idx)\n",
    "    df_train =df[features].iloc[idx[:n_train]]\n",
    "    df_val =df[features].iloc[idx[n_train:n_train+n_val]]\n",
    "    df_test =df[features].iloc[idx[n_train+n_val:]]\n",
    "    df_train = df_train.reset_index(drop=True)\n",
    "    df_val = df_val.reset_index(drop=True)\n",
    "    df_test = df_test.reset_index(drop=True)\n",
    "    y_train = np.log1p(df[target].iloc[idx[:n_train]].values)\n",
    "    y_val = np.log1p(df[target].iloc[idx[n_train:n_train+n_val]].values)\n",
    "    y_test = np.log1p(df[target].iloc[idx[n_train+n_val:]].values)\n",
    "    df_train.fillna(0,inplace=True)\n",
    "    X_train = df_train.values\n",
    "    X_val = df_val.values\n",
    "    w0, w = train_linear_regression(X_train,y_train)\n",
    "    y_pred = w0 + df_val.dot(w)\n",
    "    accuracy = round(rmse(y_val,y_pred),2)\n",
    "    score[n] = accuracy\n"
   ]
  },
  {
   "cell_type": "code",
   "execution_count": 55,
   "id": "084d9834-ea3e-45b5-bf60-627c848aac0f",
   "metadata": {},
   "outputs": [
    {
     "data": {
      "text/plain": [
       "{0: 0.34,\n",
       " 1: 0.34,\n",
       " 2: 0.35,\n",
       " 3: 0.34,\n",
       " 4: 0.35,\n",
       " 5: 0.34,\n",
       " 6: 0.35,\n",
       " 7: 0.34,\n",
       " 8: 0.34,\n",
       " 9: 0.34}"
      ]
     },
     "execution_count": 55,
     "metadata": {},
     "output_type": "execute_result"
    }
   ],
   "source": [
    "score"
   ]
  },
  {
   "cell_type": "code",
   "execution_count": 60,
   "id": "dd658713-2ce2-4a67-96eb-1a7997946595",
   "metadata": {},
   "outputs": [
    {
     "data": {
      "text/plain": [
       "0.004582575694955819"
      ]
     },
     "execution_count": 60,
     "metadata": {},
     "output_type": "execute_result"
    }
   ],
   "source": [
    "np.std(list(score.values()))"
   ]
  },
  {
   "cell_type": "markdown",
   "id": "0e685d70-7a76-4357-934c-9aa64884cd0c",
   "metadata": {},
   "source": [
    "## 6. Using 9 as seed and training with r = 0.001"
   ]
  },
  {
   "cell_type": "code",
   "execution_count": 69,
   "id": "57bc2f24-000d-404e-bdc4-266ce62f488b",
   "metadata": {},
   "outputs": [
    {
     "name": "stdout",
     "output_type": "stream",
     "text": [
      "0.34\n"
     ]
    }
   ],
   "source": [
    "n = len(df)\n",
    "n_val = int(n*0.2)\n",
    "n_test = int(n*0.2)\n",
    "n_train = n-n_val-n_test\n",
    "idx = np.arange(n)\n",
    "np.random.seed(9)\n",
    "np.random.shuffle(idx)\n",
    "df_train =df[features].iloc[idx[:n_train]]\n",
    "df_val =df[features].iloc[idx[n_train:n_train+n_val]]\n",
    "df_test =df[features].iloc[idx[n_train+n_val:]]\n",
    "df_train = df_train.reset_index(drop=True)\n",
    "df_val = df_val.reset_index(drop=True)\n",
    "df_test = df_test.reset_index(drop=True)\n",
    "y_train = np.log1p(df[target].iloc[idx[:n_train]].values)\n",
    "y_val = np.log1p(df[target].iloc[idx[n_train:n_train+n_val]].values)\n",
    "y_test = np.log1p(df[target].iloc[idx[n_train+n_val:]].values)\n",
    "df_train.fillna(0,inplace=True)\n",
    "\n",
    "X_train = df_train.values\n",
    "X_val = df_val.values\n",
    "\n",
    "w0, w = train_linear_regression_reg(X_train,y_train,r=0.001)\n",
    "y_pred = w0 + df_val.dot(w)\n",
    "\n",
    "print(round(rmse(y_val,y_pred),2))\n",
    "\n"
   ]
  },
  {
   "cell_type": "markdown",
   "id": "dfcf9ae0-b678-4a9b-a19d-3f9def5054f5",
   "metadata": {},
   "source": [
    "# End"
   ]
  }
 ],
 "metadata": {
  "kernelspec": {
   "display_name": "Python 3 (ipykernel)",
   "language": "python",
   "name": "python3"
  },
  "language_info": {
   "codemirror_mode": {
    "name": "ipython",
    "version": 3
   },
   "file_extension": ".py",
   "mimetype": "text/x-python",
   "name": "python",
   "nbconvert_exporter": "python",
   "pygments_lexer": "ipython3",
   "version": "3.9.13"
  }
 },
 "nbformat": 4,
 "nbformat_minor": 5
}
